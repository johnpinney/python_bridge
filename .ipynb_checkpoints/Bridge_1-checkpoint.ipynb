{
 "cells": [
  {
   "cell_type": "markdown",
   "metadata": {},
   "source": [
    "# Python bridge 1\n",
    "\n",
    "*John Pinney*"
   ]
  },
  {
   "cell_type": "markdown",
   "metadata": {},
   "source": [
    "## Hello!\n",
    "\n",
    "Welcome to the python bridge.\n",
    "\n",
    "This course follows on directly from *Introduction to Python*, aiming to bridge the gap between a beginner-level course and the specific computing resources that you need for your research.\n",
    "\n",
    "We have three sessions to work together, with the following aims:\n",
    "\n",
    "* Improve your confidence in writing python code.\n",
    "* Introduce three essential packages for scientific computing in python: `numpy`, `matplotlib` and `pandas`.\n",
    "* Practice working with a data set to carry out some basic analysis and visualisation tasks.\n",
    "\n",
    "At the end of these sessions, we hope that you will feel better prepared for further training in scientific computing (e.g. machine learning, statistical modelling, simulation etc.)"
   ]
  },
  {
   "cell_type": "markdown",
   "metadata": {},
   "source": [
    "This is a new course, and we are very grateful for your questions and feedback on the content and delivery so that we can continue to improve the training that we offer. Please email j.pinney@imperial.ac.uk with your comments and suggestions."
   ]
  },
  {
   "cell_type": "markdown",
   "metadata": {},
   "source": [
    "## How to use this course\n",
    "\n",
    "A couple of ideas to get the most from your learning:\n",
    "\n",
    "### Vocabulary list\n",
    "It's a good idea to keep your own record of the various modules, functions, classes and methods that you will encounter. This can make it easier when you come to apply what you have learned in your own code. Perhaps make a new jupyter notebook (including working examples of code) that you can keep as a personal reference.\n",
    "\n",
    "### Documentation\n",
    "This course is a good opportunity to familiarise yourself with the online documentation for the packages we look at. Python documentation tends to be quite standardised, so any other packages you work with in the future are likely to be documented in a similar way.\n"
   ]
  },
  {
   "cell_type": "markdown",
   "metadata": {},
   "source": [
    "## Packages"
   ]
  },
  {
   "cell_type": "markdown",
   "metadata": {},
   "source": [
    "### Packages for scientific computing\n",
    "\n",
    "You have already learned how to import python code from external *modules*. In scientific computing, packages give us access to an enormous range of modules containing algorithms and data structures that are written and maintained by domain experts. Choosing packages that are appropriate to your needs &mdash; and taking the time to learn how to use them effectively &mdash; can save a huge amount of time and effort in writing your own code.\n",
    "\n",
    "A number of very useful packages are collected under the `scipy` umbrella, and linked from https://scipy.org . In this course, we will introduce three of the most widely used scipy packages, starting with the numerical computing tools in the `numpy` package."
   ]
  },
  {
   "cell_type": "markdown",
   "metadata": {},
   "source": [
    "### Using a package manager\n",
    "\n",
    "To work with modules that are not part of the core python distribution, we need a framework that will deal with downloading the external code and ensuring that different modules are compatible with each other. \n",
    "\n",
    "With Anaconda, the easiest way to do this is using the Anaconda Navigator GUI. Go to *Environments* and use the search facility to find the packages that you want to install or uninstall. The package manager will attempt to install these from the internet, and you can then import the corresponding modules within your jupyter notebook.\n",
    "\n",
    "The command-line utility `conda` gives access to the same package management system, e.g. the command\n",
    "\n",
    "`\n",
    "conda install numpy\n",
    "`\n",
    "\n",
    "will install numpy in the current environment.\n",
    "\n",
    "Anaconda/conda is highly recommended as the most straightforward way to manage your python environments. If you have a different python install, you will need to use a different package manager to download packages (usually `pip`, e.g. `pip install numpy`). \n",
    "\n",
    "**NB** If you have any difficulties loading packages during the session, we recommend that you switch to using the online Binder versions of these notebooks - see https://github.com/johnpinney/python_bridge\n"
   ]
  },
  {
   "cell_type": "markdown",
   "metadata": {},
   "source": [
    "Let's see if the `numpy` package is available in your notebook's environment. If you're using the default 'base(root)' environment in Anaconda, it is probably already there. "
   ]
  },
  {
   "cell_type": "code",
   "execution_count": 86,
   "metadata": {},
   "outputs": [],
   "source": [
    "import numpy as np"
   ]
  },
  {
   "cell_type": "markdown",
   "metadata": {},
   "source": [
    "If it isn't found (you will get a *ModuleNotFoundError*), use your package manager to install it and try again."
   ]
  },
  {
   "cell_type": "markdown",
   "metadata": {},
   "source": [
    "Remember that the `as np` instruction means that we will refer to the `numpy` module in our code using the shorthand `np`.\n",
    "\n",
    "Before we can get started with using `numpy`, we'll need to revise some of the basic ideas around python objects."
   ]
  },
  {
   "cell_type": "markdown",
   "metadata": {},
   "source": [
    "## Python object essentials"
   ]
  },
  {
   "cell_type": "markdown",
   "metadata": {},
   "source": [
    "You might already be aware that python is an *object-oriented* language, but the details of what this means are not usually addressed in a beginners' course. This is because it is possible to write plenty of useful python code without thinking about objects at all.\n",
    "\n",
    "However, as your projects become more complex and we incorporate code from external packages, it becomes important to understand how to handle objects to get them to do what you want. Specifically, we need to understand the concepts of **class**, **instance**, **attribute** and **method**.\n"
   ]
  },
  {
   "cell_type": "markdown",
   "metadata": {},
   "source": [
    "Object-oriented languages encourage us organise our code to group data structures together with the functions that operate on them.\n",
    "Let's look at what this means in practice, using a kind of object that you have already encountered: the python `list`."
   ]
  },
  {
   "cell_type": "markdown",
   "metadata": {},
   "source": [
    "We can generate a new list:"
   ]
  },
  {
   "cell_type": "code",
   "execution_count": 64,
   "metadata": {},
   "outputs": [
    {
     "data": {
      "text/plain": [
       "['pear', 'orange', 'apple', 'pear', 'banana']"
      ]
     },
     "execution_count": 64,
     "metadata": {},
     "output_type": "execute_result"
    }
   ],
   "source": [
    "fruits = ['pear', 'orange', 'apple', 'pear', 'banana']\n",
    "fruits"
   ]
  },
  {
   "cell_type": "markdown",
   "metadata": {},
   "source": [
    "We can make changes to the list:"
   ]
  },
  {
   "cell_type": "code",
   "execution_count": 65,
   "metadata": {},
   "outputs": [
    {
     "data": {
      "text/plain": [
       "['kiwi', 'banana', 'pear', 'apple', 'orange', 'pear']"
      ]
     },
     "execution_count": 65,
     "metadata": {},
     "output_type": "execute_result"
    }
   ],
   "source": [
    "fruits.append('kiwi')\n",
    "fruits.reverse()\n",
    "fruits"
   ]
  },
  {
   "cell_type": "markdown",
   "metadata": {},
   "source": [
    "We can retrieve items from the list:"
   ]
  },
  {
   "cell_type": "code",
   "execution_count": 66,
   "metadata": {},
   "outputs": [
    {
     "data": {
      "text/plain": [
       "'banana'"
      ]
     },
     "execution_count": 66,
     "metadata": {},
     "output_type": "execute_result"
    }
   ],
   "source": [
    "fruits[1]"
   ]
  },
  {
   "cell_type": "markdown",
   "metadata": {},
   "source": [
    "And we can count items in the list:"
   ]
  },
  {
   "cell_type": "code",
   "execution_count": 67,
   "metadata": {},
   "outputs": [
    {
     "data": {
      "text/plain": [
       "2"
      ]
     },
     "execution_count": 67,
     "metadata": {},
     "output_type": "execute_result"
    }
   ],
   "source": [
    "fruits.count('pear')"
   ]
  },
  {
   "cell_type": "markdown",
   "metadata": {},
   "source": [
    "Let's examine in a little more detail what is happening here."
   ]
  },
  {
   "cell_type": "markdown",
   "metadata": {},
   "source": [
    "### Classes\n",
    "\n",
    "We can think of a *class* as a blueprint for an object. Essentially, we need to define two things: \n",
    "\n",
    "* How the data associated with the object is handled in memory.\n",
    "* The ways in which the object can interact with the rest of the program.\n",
    "\n",
    "This means that every object of the same kind will behave in the same way. For example, if I have a `list`, I can check [the documentation](https://python-reference.readthedocs.io/en/latest/docs/list/) to find out all the things that I can do with it.\n",
    "\n",
    "By convention, names for user-defined classes usually start with a capital letter.\n"
   ]
  },
  {
   "cell_type": "markdown",
   "metadata": {},
   "source": [
    "### Instances\n",
    "\n",
    "Once a class has been defined, we can create multiple *instance objects* from it, which are independent of each other. An instance of a class `C` is an object that has been made according to the blueprint defined by that class. \n",
    "\n",
    "We usually create new instances of a class `C` using a *constructor* `C()`. For a `list`, the equivalent function is `list()`:\n"
   ]
  },
  {
   "cell_type": "code",
   "execution_count": 78,
   "metadata": {},
   "outputs": [
    {
     "name": "stdout",
     "output_type": "stream",
     "text": [
      "[]\n"
     ]
    }
   ],
   "source": [
    "x = list()\n",
    "print(x)"
   ]
  },
  {
   "cell_type": "code",
   "execution_count": 79,
   "metadata": {},
   "outputs": [
    {
     "name": "stdout",
     "output_type": "stream",
     "text": [
      "[100, 101]\n"
     ]
    }
   ],
   "source": [
    "x.append(100)\n",
    "x.append(101)\n",
    "print(x)"
   ]
  },
  {
   "cell_type": "markdown",
   "metadata": {},
   "source": [
    "Sometimes new instances can be created in other ways, for example by obtaining a copy of an existing object:"
   ]
  },
  {
   "cell_type": "code",
   "execution_count": 81,
   "metadata": {},
   "outputs": [
    {
     "name": "stdout",
     "output_type": "stream",
     "text": [
      "[100, 101]\n",
      "[100, 101, 200]\n"
     ]
    }
   ],
   "source": [
    "y = x.copy()\n",
    "y.append(200)\n",
    "print(x)\n",
    "print(y)"
   ]
  },
  {
   "cell_type": "markdown",
   "metadata": {},
   "source": [
    "### Attributes\n",
    "\n",
    "An *attribute* is a variable that is attached to an object, which exposes some information about the internal state of that object. Depending on the way that the attribute is defined, this might be something fixed or something that can change during the lifetime of the object.\n",
    "\n",
    "We can access an attribute `x` of a class `C` using a dot: `C.x`\n",
    "\n",
    "A `list` doesn't have many attributes, but here is one, which simply records the class that the object is derived from:"
   ]
  },
  {
   "cell_type": "code",
   "execution_count": 82,
   "metadata": {},
   "outputs": [
    {
     "data": {
      "text/plain": [
       "list"
      ]
     },
     "execution_count": 82,
     "metadata": {},
     "output_type": "execute_result"
    }
   ],
   "source": [
    "fruits.__class__"
   ]
  },
  {
   "cell_type": "markdown",
   "metadata": {},
   "source": [
    "Note that this gives the same output as the `type` function:"
   ]
  },
  {
   "cell_type": "code",
   "execution_count": 218,
   "metadata": {},
   "outputs": [
    {
     "data": {
      "text/plain": [
       "list"
      ]
     },
     "execution_count": 218,
     "metadata": {},
     "output_type": "execute_result"
    }
   ],
   "source": [
    "type(fruits)"
   ]
  },
  {
   "cell_type": "markdown",
   "metadata": {},
   "source": [
    "### Methods"
   ]
  },
  {
   "cell_type": "markdown",
   "metadata": {},
   "source": [
    "Lastly, a *method* is a function that is attached to an object. The methods that are available to a particular object are defined by its class.\n",
    "\n",
    "We can invoke the method `f` of an object `x` using `x.f()` &mdash; the parentheses allow us to send arguments to the function, just as we would when using a normal function."
   ]
  },
  {
   "cell_type": "markdown",
   "metadata": {},
   "source": [
    "#### Exercise"
   ]
  },
  {
   "cell_type": "markdown",
   "metadata": {},
   "source": [
    "Which methods of `fruits` have we already used?"
   ]
  },
  {
   "cell_type": "code",
   "execution_count": null,
   "metadata": {},
   "outputs": [],
   "source": []
  },
  {
   "cell_type": "markdown",
   "metadata": {},
   "source": [
    "Which of those methods cause the object to change in some way?"
   ]
  },
  {
   "cell_type": "code",
   "execution_count": null,
   "metadata": {},
   "outputs": [],
   "source": []
  },
  {
   "cell_type": "markdown",
   "metadata": {},
   "source": [
    "Find out what the methods `pop`, `index`, `insert` and `extend` do. Try them out below."
   ]
  },
  {
   "cell_type": "code",
   "execution_count": null,
   "metadata": {},
   "outputs": [],
   "source": []
  },
  {
   "cell_type": "markdown",
   "metadata": {},
   "source": [
    "## `numpy`\n",
    "\n",
    "`numpy` provides a set of general data structures and utilities to support numerical computing in python. It is one of the most widely used packages in scientific computing. "
   ]
  },
  {
   "cell_type": "markdown",
   "metadata": {},
   "source": [
    "### `ndarray`\n",
    "\n",
    "A major feature of `numpy` is the *n-dimensional array* (`ndarray`) data type that it provides. This is similar to a `list`, but has three advantages for numerical computing:\n",
    "\n",
    "* Every element must be of the same data type (e.g. `float` or `int`).\n",
    "* Operations are much faster and more memory-efficient using `ndarray` than using `list`.\n",
    "* The resulting code is easier to read and write."
   ]
  },
  {
   "cell_type": "code",
   "execution_count": 199,
   "metadata": {},
   "outputs": [],
   "source": [
    "n = 10"
   ]
  },
  {
   "cell_type": "code",
   "execution_count": 251,
   "metadata": {},
   "outputs": [
    {
     "name": "stdout",
     "output_type": "stream",
     "text": [
      "[1.0, 1.0, 1.0, 1.0, 1.0, 1.0, 1.0, 1.0, 1.0, 1.0]\n"
     ]
    },
    {
     "data": {
      "text/plain": [
       "list"
      ]
     },
     "execution_count": 251,
     "metadata": {},
     "output_type": "execute_result"
    }
   ],
   "source": [
    "a = list()\n",
    "for i in range(n):\n",
    "    a.append(1.0)\n",
    "print(a)\n",
    "type(a)"
   ]
  },
  {
   "cell_type": "code",
   "execution_count": 252,
   "metadata": {},
   "outputs": [
    {
     "name": "stdout",
     "output_type": "stream",
     "text": [
      "[1. 1. 1. 1. 1. 1. 1. 1. 1. 1.]\n"
     ]
    },
    {
     "data": {
      "text/plain": [
       "numpy.ndarray"
      ]
     },
     "execution_count": 252,
     "metadata": {},
     "output_type": "execute_result"
    }
   ],
   "source": [
    "b = np.array(a)\n",
    "print(b)\n",
    "type(b)"
   ]
  },
  {
   "cell_type": "markdown",
   "metadata": {},
   "source": [
    "Notice that `np.array()` is a constructor, making a new `ndarray` object using data from the `list` provided. When we refer to \"an array\" in python, we usually mean an object of type `ndarray`."
   ]
  },
  {
   "cell_type": "markdown",
   "metadata": {},
   "source": [
    "We can consider `a` and `b` as different representation of the same column vector of length `n`. \n",
    "\n",
    "Now increase `n` to 1,000,000 above and compare the computation times for `a+a` and `b+b`:"
   ]
  },
  {
   "cell_type": "code",
   "execution_count": 204,
   "metadata": {},
   "outputs": [],
   "source": [
    "import time"
   ]
  },
  {
   "cell_type": "code",
   "execution_count": 207,
   "metadata": {},
   "outputs": [
    {
     "name": "stdout",
     "output_type": "stream",
     "text": [
      "--- 0.00013399124145507812 seconds ---\n"
     ]
    }
   ],
   "source": [
    "start_time = time.time()\n",
    "result = list()\n",
    "for i in range(n):\n",
    "    result.append(a[i] + a[i])\n",
    "print(\"--- %s seconds ---\" % (time.time() - start_time))"
   ]
  },
  {
   "cell_type": "code",
   "execution_count": 208,
   "metadata": {},
   "outputs": [
    {
     "name": "stdout",
     "output_type": "stream",
     "text": [
      "--- 0.0001957416534423828 seconds ---\n"
     ]
    }
   ],
   "source": [
    "start_time = time.time()\n",
    "result = np.zeros(n) # makes a new ndarray filled with 0's\n",
    "for i in range(n):\n",
    "    result[i] = b[i] + b[i]\n",
    "print(\"--- %s seconds ---\" % (time.time() - start_time))"
   ]
  },
  {
   "cell_type": "markdown",
   "metadata": {},
   "source": [
    "### vectorised operations"
   ]
  },
  {
   "cell_type": "markdown",
   "metadata": {},
   "source": [
    "Wait a minute &mdash; didn't I just say that calculations using `ndarray` are supposed to be *faster*..?\n",
    "\n",
    "This is true, but we have to work with the objects in the right way. \n",
    "\n",
    "Arithmetic operations like addition should be done directly (i.e. literally as `b + b`), which `numpy` understands as a vector operation:"
   ]
  },
  {
   "cell_type": "code",
   "execution_count": 210,
   "metadata": {},
   "outputs": [
    {
     "name": "stdout",
     "output_type": "stream",
     "text": [
      "[2. 2. 2. 2. 2. 2. 2. 2. 2. 2.]\n",
      "--- 0.00043892860412597656 seconds ---\n"
     ]
    }
   ],
   "source": [
    "start_time = time.time()\n",
    "result = b + b\n",
    "print(result)\n",
    "print(\"--- %s seconds ---\" % (time.time() - start_time))"
   ]
  },
  {
   "cell_type": "markdown",
   "metadata": {},
   "source": [
    "For large vectors, this is many times faster than using a loop to do the addition, and the code is simpler to write and easier to read! `numpy` handles the vectorised operation for us, so we can concentrate on the calculation itself."
   ]
  },
  {
   "cell_type": "markdown",
   "metadata": {},
   "source": [
    "#### Notes"
   ]
  },
  {
   "cell_type": "markdown",
   "metadata": {},
   "source": [
    "The length of an `ndarray` is fixed when it is created, so it has no `append` method."
   ]
  },
  {
   "cell_type": "markdown",
   "metadata": {},
   "source": [
    "You can check the data type of an `ndarray` using the `dtype` attribute, and the number of data using `size`:"
   ]
  },
  {
   "cell_type": "code",
   "execution_count": 213,
   "metadata": {},
   "outputs": [
    {
     "data": {
      "text/plain": [
       "dtype('float64')"
      ]
     },
     "execution_count": 213,
     "metadata": {},
     "output_type": "execute_result"
    }
   ],
   "source": [
    "b.dtype"
   ]
  },
  {
   "cell_type": "code",
   "execution_count": 214,
   "metadata": {},
   "outputs": [
    {
     "data": {
      "text/plain": [
       "10"
      ]
     },
     "execution_count": 214,
     "metadata": {},
     "output_type": "execute_result"
    }
   ],
   "source": [
    "b.size"
   ]
  },
  {
   "cell_type": "markdown",
   "metadata": {},
   "source": [
    "\n",
    "You can find all the attributes and methods available for an `ndarray` [here](https://numpy.org/doc/stable/reference/generated/numpy.ndarray.html)."
   ]
  },
  {
   "cell_type": "markdown",
   "metadata": {},
   "source": [
    "#### Exercise"
   ]
  },
  {
   "cell_type": "markdown",
   "metadata": {},
   "source": [
    "`x` is a vector of numerical data:"
   ]
  },
  {
   "cell_type": "code",
   "execution_count": 262,
   "metadata": {},
   "outputs": [],
   "source": [
    "x = np.array([4, 20, 33, 10, 24, 36, 23, 61, 9, 53, 3, 66, 31])"
   ]
  },
  {
   "cell_type": "markdown",
   "metadata": {},
   "source": [
    "Use the attributes and methods of `x` to answer the following questions:"
   ]
  },
  {
   "cell_type": "markdown",
   "metadata": {},
   "source": [
    "How many values does `x` contain?"
   ]
  },
  {
   "cell_type": "code",
   "execution_count": null,
   "metadata": {},
   "outputs": [],
   "source": []
  },
  {
   "cell_type": "markdown",
   "metadata": {},
   "source": [
    "What are the mean and standard deviation of the values in `x`?"
   ]
  },
  {
   "cell_type": "code",
   "execution_count": null,
   "metadata": {},
   "outputs": [],
   "source": []
  },
  {
   "cell_type": "markdown",
   "metadata": {},
   "source": [
    "What is the range (maximum - minimum) of the values in `x`?"
   ]
  },
  {
   "cell_type": "code",
   "execution_count": null,
   "metadata": {},
   "outputs": [],
   "source": []
  },
  {
   "cell_type": "markdown",
   "metadata": {},
   "source": [
    "What is the index of the largest value in `x`? \n",
    "*Hint: use the `argmax()` method.*"
   ]
  },
  {
   "cell_type": "code",
   "execution_count": null,
   "metadata": {},
   "outputs": [],
   "source": []
  },
  {
   "cell_type": "markdown",
   "metadata": {},
   "source": [
    "### Array generators\n",
    "\n",
    "zeros\n",
    "ones\n",
    "arange\n",
    "linspace\n"
   ]
  },
  {
   "cell_type": "markdown",
   "metadata": {},
   "source": [
    "Create a null vector of size 10, but make the fifth value 1."
   ]
  },
  {
   "cell_type": "markdown",
   "metadata": {},
   "source": [
    "Create a vector with values ranging from 10 to 49."
   ]
  },
  {
   "cell_type": "code",
   "execution_count": null,
   "metadata": {},
   "outputs": [],
   "source": []
  },
  {
   "cell_type": "markdown",
   "metadata": {},
   "source": [
    "### Array slices"
   ]
  },
  {
   "cell_type": "markdown",
   "metadata": {},
   "source": [
    "Create the reverse of a given vector `x` (first element becomes last)."
   ]
  },
  {
   "cell_type": "code",
   "execution_count": null,
   "metadata": {},
   "outputs": [],
   "source": []
  },
  {
   "cell_type": "markdown",
   "metadata": {},
   "source": [
    "### Arrays in higher dimensions"
   ]
  },
  {
   "cell_type": "markdown",
   "metadata": {},
   "source": [
    "### Stacking arrays"
   ]
  },
  {
   "cell_type": "code",
   "execution_count": 7,
   "metadata": {},
   "outputs": [],
   "source": [
    "\n",
    "data = np.vstack([x_vals, y_vals])"
   ]
  },
  {
   "cell_type": "markdown",
   "metadata": {},
   "source": [
    "## Arithmetic"
   ]
  },
  {
   "cell_type": "markdown",
   "metadata": {},
   "source": [
    "### Vector arithmetic"
   ]
  },
  {
   "cell_type": "markdown",
   "metadata": {},
   "source": [
    "### Matrix multiplication"
   ]
  },
  {
   "cell_type": "markdown",
   "metadata": {},
   "source": [
    "### Broadcasting"
   ]
  },
  {
   "cell_type": "markdown",
   "metadata": {},
   "source": [
    "## Mathematical functions"
   ]
  },
  {
   "cell_type": "code",
   "execution_count": null,
   "metadata": {},
   "outputs": [],
   "source": [
    "x_vals = np.arange(0,30,step=np.pi/16)\n",
    "y_vals = np.sin(x_vals)"
   ]
  },
  {
   "cell_type": "markdown",
   "metadata": {},
   "source": [
    "## Random numbers"
   ]
  },
  {
   "cell_type": "code",
   "execution_count": null,
   "metadata": {},
   "outputs": [],
   "source": []
  },
  {
   "cell_type": "markdown",
   "metadata": {},
   "source": [
    "Make a 5x5 random matrix."
   ]
  },
  {
   "cell_type": "markdown",
   "metadata": {},
   "source": [
    "Normalize a 5x5 matrix."
   ]
  },
  {
   "cell_type": "markdown",
   "metadata": {},
   "source": [
    "Write a function to add Gaussian noise to a monochrome image provided as a 2D matrix."
   ]
  },
  {
   "cell_type": "code",
   "execution_count": null,
   "metadata": {},
   "outputs": [],
   "source": []
  },
  {
   "cell_type": "code",
   "execution_count": 11,
   "metadata": {
    "collapsed": true,
    "jupyter": {
     "outputs_hidden": true
    }
   },
   "outputs": [
    {
     "data": {
      "text/plain": [
       "array([[0.80686535],\n",
       "       [0.30328787],\n",
       "       [0.13306068],\n",
       "       [0.15469299],\n",
       "       [0.41084397],\n",
       "       [0.71247185],\n",
       "       [0.56453821],\n",
       "       [0.55491044],\n",
       "       [0.52682772],\n",
       "       [0.7833095 ],\n",
       "       [0.25496814],\n",
       "       [0.61563354],\n",
       "       [0.54095577],\n",
       "       [0.63078542],\n",
       "       [0.66919827],\n",
       "       [0.82111056],\n",
       "       [0.73312421],\n",
       "       [0.05824746],\n",
       "       [0.24362309],\n",
       "       [0.61493779],\n",
       "       [0.25579933],\n",
       "       [0.36036643],\n",
       "       [0.3672504 ],\n",
       "       [0.98426743],\n",
       "       [0.98179395],\n",
       "       [0.48488024],\n",
       "       [0.88648762],\n",
       "       [0.25874002],\n",
       "       [0.53595738],\n",
       "       [0.99383515],\n",
       "       [0.85149674],\n",
       "       [0.37716698],\n",
       "       [0.09421315],\n",
       "       [0.00225724],\n",
       "       [0.19833786],\n",
       "       [0.26411833],\n",
       "       [0.35035939],\n",
       "       [0.63688029],\n",
       "       [0.48747792],\n",
       "       [0.48902147],\n",
       "       [0.07615082],\n",
       "       [0.87341296],\n",
       "       [0.8589914 ],\n",
       "       [0.97751873],\n",
       "       [0.63202915],\n",
       "       [0.2332867 ],\n",
       "       [0.35355492],\n",
       "       [0.29642355],\n",
       "       [0.53799797],\n",
       "       [0.11766891],\n",
       "       [0.68011513],\n",
       "       [0.75248858],\n",
       "       [0.51997779],\n",
       "       [0.70004539],\n",
       "       [0.49633709],\n",
       "       [0.53260078],\n",
       "       [0.24468013],\n",
       "       [0.17914335],\n",
       "       [0.97682458],\n",
       "       [0.88164015],\n",
       "       [0.69026642],\n",
       "       [0.73613493],\n",
       "       [0.13768865],\n",
       "       [0.29315657],\n",
       "       [0.3503788 ],\n",
       "       [0.29477309],\n",
       "       [0.00845866],\n",
       "       [0.08561759],\n",
       "       [0.01904269],\n",
       "       [0.65759727],\n",
       "       [0.30803654],\n",
       "       [0.80436397],\n",
       "       [0.17651593],\n",
       "       [0.80002403],\n",
       "       [0.48775053],\n",
       "       [0.55694455],\n",
       "       [0.97664935],\n",
       "       [0.77963941],\n",
       "       [0.08755005],\n",
       "       [0.90332655],\n",
       "       [0.03421569],\n",
       "       [0.83040626],\n",
       "       [0.96864773],\n",
       "       [0.54112564],\n",
       "       [0.46829994],\n",
       "       [0.44682505],\n",
       "       [0.46559824],\n",
       "       [0.36870776],\n",
       "       [0.54537901],\n",
       "       [0.00504563],\n",
       "       [0.816448  ],\n",
       "       [0.02564671],\n",
       "       [0.41792965],\n",
       "       [0.48748151],\n",
       "       [0.92002292],\n",
       "       [0.91391835],\n",
       "       [0.38709622],\n",
       "       [0.5381809 ],\n",
       "       [0.39986345],\n",
       "       [0.67790489]])"
      ]
     },
     "execution_count": 11,
     "metadata": {},
     "output_type": "execute_result"
    }
   ],
   "source": [
    "np.random.rand(100, 1)"
   ]
  },
  {
   "cell_type": "code",
   "execution_count": 12,
   "metadata": {
    "collapsed": true,
    "jupyter": {
     "outputs_hidden": true
    }
   },
   "outputs": [
    {
     "data": {
      "text/plain": [
       "array([[-1.58420427],\n",
       "       [-0.76629332],\n",
       "       [-0.0644615 ],\n",
       "       [ 0.88991891],\n",
       "       [-0.10433141],\n",
       "       [ 0.18487157],\n",
       "       [-0.24278505],\n",
       "       [ 0.8794294 ],\n",
       "       [-0.40480024],\n",
       "       [-0.85780344],\n",
       "       [ 0.30740613],\n",
       "       [ 0.0231382 ],\n",
       "       [-1.16536909],\n",
       "       [-0.71124196],\n",
       "       [-0.10178581],\n",
       "       [-0.52250639],\n",
       "       [ 1.18034906],\n",
       "       [-1.08299902],\n",
       "       [-1.40752803],\n",
       "       [ 0.94697262],\n",
       "       [-0.07097913],\n",
       "       [ 0.50362712],\n",
       "       [ 1.33084443],\n",
       "       [ 0.48433515],\n",
       "       [ 0.25572598],\n",
       "       [-1.39613864],\n",
       "       [ 1.16382679],\n",
       "       [-0.53796989],\n",
       "       [-0.38351483],\n",
       "       [ 0.50894806],\n",
       "       [ 2.03089117],\n",
       "       [-1.40936462],\n",
       "       [-1.79005372],\n",
       "       [ 1.13858506],\n",
       "       [ 0.3934622 ],\n",
       "       [ 0.39725946],\n",
       "       [-1.31820388],\n",
       "       [-1.26622257],\n",
       "       [-1.35176058],\n",
       "       [-0.90446045],\n",
       "       [ 0.30605255],\n",
       "       [-1.382709  ],\n",
       "       [ 1.07552728],\n",
       "       [ 0.93405072],\n",
       "       [ 0.98696315],\n",
       "       [ 0.39831158],\n",
       "       [-0.5266384 ],\n",
       "       [-0.4488668 ],\n",
       "       [ 1.27818961],\n",
       "       [ 1.78861098],\n",
       "       [ 1.08498981],\n",
       "       [ 0.89346683],\n",
       "       [-2.6670012 ],\n",
       "       [ 0.51776344],\n",
       "       [ 0.30138198],\n",
       "       [-0.94318382],\n",
       "       [-1.74289577],\n",
       "       [-0.55830473],\n",
       "       [ 0.61754021],\n",
       "       [-0.01882879],\n",
       "       [-0.44037216],\n",
       "       [ 0.08679493],\n",
       "       [ 1.22671866],\n",
       "       [-1.69640353],\n",
       "       [ 0.67147106],\n",
       "       [ 0.90842433],\n",
       "       [ 0.49468132],\n",
       "       [ 0.87081403],\n",
       "       [ 0.0776152 ],\n",
       "       [-1.27950685],\n",
       "       [-1.22016308],\n",
       "       [-0.79698619],\n",
       "       [-0.2102677 ],\n",
       "       [-2.075923  ],\n",
       "       [ 3.0760361 ],\n",
       "       [-0.64933886],\n",
       "       [ 0.62542701],\n",
       "       [ 0.53076105],\n",
       "       [-0.8953915 ],\n",
       "       [-1.85559487],\n",
       "       [ 0.23229551],\n",
       "       [-0.77435978],\n",
       "       [-0.14684254],\n",
       "       [-0.82325621],\n",
       "       [ 0.74486559],\n",
       "       [ 0.70841313],\n",
       "       [ 0.05120546],\n",
       "       [-1.49347295],\n",
       "       [-0.52620921],\n",
       "       [ 0.54058634],\n",
       "       [ 0.32263134],\n",
       "       [-0.35045397],\n",
       "       [ 1.57833957],\n",
       "       [ 0.97455924],\n",
       "       [-1.69935183],\n",
       "       [ 0.12603657],\n",
       "       [-0.97900743],\n",
       "       [-1.94178199],\n",
       "       [ 0.09239496],\n",
       "       [ 0.14987407]])"
      ]
     },
     "execution_count": 12,
     "metadata": {},
     "output_type": "execute_result"
    }
   ],
   "source": [
    "np.random.randn(100, 1)"
   ]
  },
  {
   "cell_type": "markdown",
   "metadata": {},
   "source": [
    "## Homework: Connect Four\n",
    "\n",
    "Here's an extended exercise using 2D arrays. The idea is to get a bit more practice with writing functions and loops, and thinking about array indexing. \n",
    "\n",
    "Nothing will be marked, it's just for fun. Do as much as you like.\n",
    "\n",
    "### The scenario\n",
    "\n",
    "The game [Connect Four](https://en.wikipedia.org/wiki/Connect_Four) is played on a vertical grid with 7 columns and 6 rows.\n",
    "\n",
    "We can represent the state of the game using an integer matrix, where 1 is a red counter, 2 is a yellow counter and 0 is an empty cell.\n",
    "\n",
    "At the start of the game, the board looks like this:\n"
   ]
  },
  {
   "cell_type": "code",
   "execution_count": 266,
   "metadata": {},
   "outputs": [
    {
     "name": "stdout",
     "output_type": "stream",
     "text": [
      "[[0 0 0 0 0 0]\n",
      " [0 0 0 0 0 0]\n",
      " [0 0 0 0 0 0]\n",
      " [0 0 0 0 0 0]\n",
      " [0 0 0 0 0 0]\n",
      " [0 0 0 0 0 0]\n",
      " [0 0 0 0 0 0]]\n"
     ]
    }
   ],
   "source": [
    "board_0 = np.zeros((7,6),int)\n",
    "print(board_0)"
   ]
  },
  {
   "cell_type": "markdown",
   "metadata": {},
   "source": [
    "(Notice that when the array is printed like this, the board is shown rotated by 90 degrees clockwise).\n",
    "\n",
    "Red goes first, placing a counter in the fifth column:"
   ]
  },
  {
   "cell_type": "code",
   "execution_count": 270,
   "metadata": {},
   "outputs": [
    {
     "name": "stdout",
     "output_type": "stream",
     "text": [
      "[[0 0 0 0 0 0]\n",
      " [0 0 0 0 0 0]\n",
      " [0 0 0 0 0 0]\n",
      " [0 0 0 0 0 0]\n",
      " [1 0 0 0 0 0]\n",
      " [0 0 0 0 0 0]\n",
      " [0 0 0 0 0 0]]\n"
     ]
    }
   ],
   "source": [
    "board_1 = board_0.copy()\n",
    "board_1[4][0] = 1\n",
    "print(board_1)"
   ]
  },
  {
   "cell_type": "markdown",
   "metadata": {},
   "source": [
    "After seven moves, the board looks like this:"
   ]
  },
  {
   "cell_type": "code",
   "execution_count": 271,
   "metadata": {},
   "outputs": [
    {
     "name": "stdout",
     "output_type": "stream",
     "text": [
      "[[0 0 0 0 0 0]\n",
      " [1 0 0 0 0 0]\n",
      " [2 1 1 0 0 0]\n",
      " [1 2 0 0 0 0]\n",
      " [2 0 0 0 0 0]\n",
      " [0 0 0 0 0 0]\n",
      " [0 0 0 0 0 0]]\n"
     ]
    }
   ],
   "source": [
    "board_7 = np.array([[0, 0, 0, 0, 0, 0],\n",
    "                    [1, 0, 0, 0, 0, 0],\n",
    "                    [2, 1, 1, 0, 0, 0],\n",
    "                    [1, 2, 0, 0, 0, 0],\n",
    "                    [2, 0, 0, 0, 0, 0],\n",
    "                    [0, 0, 0, 0, 0, 0],\n",
    "                    [0, 0, 0, 0, 0, 0]])\n",
    "print(board_7)"
   ]
  },
  {
   "cell_type": "markdown",
   "metadata": {},
   "source": [
    "### Task 1\n",
    "\n",
    "It's already annoying having to strain my neck to look at these boards. \n",
    "\n",
    "Please write a function that prints a representation of the board in the correct orientation, without all of those square brackets."
   ]
  },
  {
   "cell_type": "code",
   "execution_count": null,
   "metadata": {},
   "outputs": [],
   "source": [
    "def display(board):\n",
    "    "
   ]
  },
  {
   "cell_type": "markdown",
   "metadata": {},
   "source": [
    "### Task 2\n",
    "\n",
    "We could make it easier for a player to make a move.\n",
    "\n",
    "Complete the function `do_move(board, player, column)`, which returns the new state of the board after a move is made in the column specified:"
   ]
  },
  {
   "cell_type": "code",
   "execution_count": 265,
   "metadata": {},
   "outputs": [],
   "source": [
    "def do_move(board, player, column):\n",
    "    \"\"\"Returns the new board configuration after the specified move.\n",
    "\n",
    "    Parameters:\n",
    "        board (numpy.ndarray): The current board configuration.\n",
    "        player (int): The player who is moving (1 or 2).\n",
    "        column (int): The column in which they play (0-6).\n",
    "\n",
    "    Returns:\n",
    "        numpy.ndarray: The board configuration after the move. \"\"\"\n",
    "    \n",
    "    new_board = board.copy()\n",
    "    \n",
    "    # do some things here...\n",
    "\n",
    "    return new_board\n",
    "    \n",
    "    "
   ]
  },
  {
   "cell_type": "markdown",
   "metadata": {},
   "source": [
    "### Task 3\n",
    "\n",
    "Write a function `get_move(board, player)` that returns a legal move (column index) for the given player."
   ]
  },
  {
   "cell_type": "code",
   "execution_count": null,
   "metadata": {},
   "outputs": [],
   "source": []
  },
  {
   "cell_type": "markdown",
   "metadata": {},
   "source": [
    "### Task 4 (harder)\n",
    "\n",
    "Write a function `winner(board)` that returns an integer:\n",
    "\n",
    "* -1 if the game is not yet over.\n",
    "* 0 if the game is a draw.\n",
    "* 1 if red has won.\n",
    "* 2 if yellow has won.\n",
    "\n"
   ]
  },
  {
   "cell_type": "code",
   "execution_count": null,
   "metadata": {},
   "outputs": [],
   "source": []
  },
  {
   "cell_type": "markdown",
   "metadata": {},
   "source": [
    "### Task 5\n",
    "\n",
    "You have *almost* made a Connect Four simulation. \n",
    "Can you finish it so that I can play against the computer? \n"
   ]
  },
  {
   "cell_type": "code",
   "execution_count": null,
   "metadata": {},
   "outputs": [],
   "source": [
    "# Might be useful...\n",
    "response = input(\"Please enter a column number:\")\n",
    "col = int(response)\n",
    "print(col)"
   ]
  },
  {
   "cell_type": "markdown",
   "metadata": {},
   "source": [
    "### Task 6 (optional)\n",
    "\n",
    "Can you improve your `get_move` function to make a more strategic move?"
   ]
  },
  {
   "cell_type": "markdown",
   "metadata": {},
   "source": [
    "## Further reading and exercises\n",
    "\n",
    "Lots of useful tutorials are collected at [numpy.org](https://numpy.org/devdocs/user/index.html), including [this beginners' guide](https://numpy.org/devdocs/user/absolute_beginners.html).\n",
    "\n",
    "[From Python to Numpy](https://www.labri.fr/perso/nrougier/from-python-to-numpy/) is an in-depth guide to using `ndarray` and vectorisation effectively, with examples from fluid dynamics to maze-building. \n",
    "\n",
    "The same author has collected [100 numpy exercises](https://github.com/rougier/numpy-100) with hints and solutions.\n",
    "\n"
   ]
  }
 ],
 "metadata": {
  "kernelspec": {
   "display_name": "Python 3",
   "language": "python",
   "name": "python3"
  },
  "language_info": {
   "codemirror_mode": {
    "name": "ipython",
    "version": 3
   },
   "file_extension": ".py",
   "mimetype": "text/x-python",
   "name": "python",
   "nbconvert_exporter": "python",
   "pygments_lexer": "ipython3",
   "version": "3.8.5"
  }
 },
 "nbformat": 4,
 "nbformat_minor": 4
}
