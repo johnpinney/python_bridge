{
 "cells": [
  {
   "cell_type": "markdown",
   "metadata": {},
   "source": [
    "# Python bridge 2"
   ]
  },
  {
   "cell_type": "markdown",
   "metadata": {},
   "source": [
    "[*Tony Yang*](https://github.com/tonyyzy)"
   ]
  },
  {
   "cell_type": "markdown",
   "metadata": {},
   "source": [
    "*Part of this notebook's material was adapted from the [Software Carpentry](https://swcarpentry.github.io/python-novice-gapminder/09-plotting/index.html) Python course and [Imperial Chemistry Department's Python courses](https://github.com/imperialchem)*"
   ]
  },
  {
   "cell_type": "markdown",
   "metadata": {},
   "source": [
    "## Introduction\n",
    "\n",
    "Welcome to the second workshop in the Python bridge series. In this session, we will build upon the NumPy knowledge from last week's session and introduce you to Matplotlib which is the commonly used Python plotting package.  \n",
    "As always, we will import some libraries:"
   ]
  },
  {
   "cell_type": "code",
   "execution_count": null,
   "metadata": {},
   "outputs": [],
   "source": [
    "import numpy as np\n",
    "# Pyplot is the plotting sublibrary within matplotlib, and commonly abbreviated as plt\n",
    "import matplotlib.pyplot as plt"
   ]
  },
  {
   "cell_type": "markdown",
   "metadata": {},
   "source": [
    "## Plotting with matplotlib\n",
    "Matplotlib is modelled after Matlab's plotting functions and aims to be easy to use and intuitive.  \n",
    "Firstly, we need to create some datasets, let's plot the sine function from -10 to 10"
   ]
  },
  {
   "cell_type": "code",
   "execution_count": null,
   "metadata": {},
   "outputs": [],
   "source": [
    "x = np.linspace(-10, 10, 101)\n",
    "sine_y = np.sin(x) # here you can see the benefits of a numpy array\n",
    "              # we can apply a numpy function to the whole array at once\n",
    "              # rather than looping over all elements of a list!"
   ]
  },
  {
   "cell_type": "markdown",
   "metadata": {},
   "source": [
    "And here's our first plot!"
   ]
  },
  {
   "cell_type": "code",
   "execution_count": null,
   "metadata": {},
   "outputs": [],
   "source": [
    "plt.plot(x, sine_y)\n",
    "plt.show() # Sometimes you may find that without plt.show()\n",
    "           # the figure is still displayed. This is Jupyter notebook\n",
    "           # trying to be helpful. Do note that in other environments\n",
    "           # you will almost definitely need this line."
   ]
  },
  {
   "cell_type": "markdown",
   "metadata": {},
   "source": [
    "Note that although we only used two lines to plot the graph matplotlib has set many defaults for us behind the scenes\n",
    ". Let go over some of the settings so we know how to customise our graphs when we want to."
   ]
  },
  {
   "cell_type": "code",
   "execution_count": null,
   "metadata": {},
   "outputs": [],
   "source": [
    "# Create a new figure of size 6.4 by 4.8 inches (width and height)\n",
    "plt.figure(figsize=(6.4, 4.8))\n",
    "\n",
    "# Plot x and y using color blue from the Tableau palette\n",
    "# with a continuous line of width 1.5 points without any markers\n",
    "plt.plot(x, sine_y, color=\"tab:blue\", linewidth=1.5, linestyle=\"-\", marker=\"\")\n",
    "\n",
    "# Set x limits to be slightly bigger than the data range\n",
    "plt.xlim(-11, 11)\n",
    "\n",
    "# Set x ticks to be nine ticks evenly spaced between -10 and 10\n",
    "plt.xticks(np.linspace(-10, 10, 9))\n",
    "\n",
    "# Set y limits\n",
    "plt.ylim(-1.1, 1.1)\n",
    "\n",
    "# Set y ticks\n",
    "plt.yticks(np.linspace(-1, 1, 9))\n",
    "\n",
    "# Show the plot on screen\n",
    "plt.show()"
   ]
  },
  {
   "cell_type": "markdown",
   "metadata": {},
   "source": [
    "### More choices of colors, linestyles, and markers\n",
    "List of colors: https://matplotlib.org/3.1.0/gallery/color/named_colors.html  \n",
    "List of linestyles: https://matplotlib.org/gallery/lines_bars_and_markers/line_styles_reference.html  \n",
    "List of markers: https://matplotlib.org/api/markers_api.html"
   ]
  },
  {
   "cell_type": "markdown",
   "metadata": {},
   "source": [
    "## Completing a plot\n",
    "It's always a good idea to label your graphs! Here we can add a title, x/y axis labels, and a legend."
   ]
  },
  {
   "cell_type": "code",
   "execution_count": null,
   "metadata": {},
   "outputs": [],
   "source": [
    "plt.figure(figsize=(6.4, 4.8))\n",
    "plt.plot(x, sine_y, label=\"y=sin(x)\")\n",
    "plt.title(\"An example sine plot\") # add title to the plot\n",
    "plt.xlabel(\"x\") # label the axes\n",
    "plt.ylabel(\"y\")\n",
    "plt.legend() # show legend\n",
    "plt.show()"
   ]
  },
  {
   "cell_type": "markdown",
   "metadata": {},
   "source": [
    "We can also plot multiple lines on the same graph."
   ]
  },
  {
   "cell_type": "code",
   "execution_count": null,
   "metadata": {},
   "outputs": [],
   "source": [
    "plt.plot(x, sine_y, label=\"y=sin(x)\")\n",
    "plt.plot(x, x, label=\"y=x\")\n",
    "plt.show()"
   ]
  },
  {
   "cell_type": "markdown",
   "metadata": {},
   "source": [
    "### Exercise 1\n",
    "- plot both sine and cosine functions on the same graph\n",
    "- Use `tab:purple` as color, `--` as linestyle, `*` as marker for cosine\n",
    "- Take your pick of options for sine\n",
    "- Make sure to give your plot a title, axis labels, and legends"
   ]
  },
  {
   "cell_type": "code",
   "execution_count": null,
   "metadata": {},
   "outputs": [],
   "source": []
  },
  {
   "cell_type": "markdown",
   "metadata": {},
   "source": [
    "## More types of plots\n",
    "\n",
    "We have covered lineplot so far, now let's dive into scatter and bar plots, and histogram"
   ]
  },
  {
   "cell_type": "markdown",
   "metadata": {},
   "source": [
    "If we only want to plot the datapoints without the contineous lines we can use scatter plot."
   ]
  },
  {
   "cell_type": "code",
   "execution_count": null,
   "metadata": {},
   "outputs": [],
   "source": [
    "plt.scatter(x, sine_y, marker=\"+\")\n",
    "plt.show()"
   ]
  },
  {
   "cell_type": "markdown",
   "metadata": {},
   "source": [
    "Bar plot is useful when displaying categorical data."
   ]
  },
  {
   "cell_type": "code",
   "execution_count": null,
   "metadata": {},
   "outputs": [],
   "source": [
    "bar_x = [\"A\", \"B\", \"C\", \"D\", \"E\"]\n",
    "bar_y = np.array(range(10, 0, -2))\n",
    "plt.bar(bar_x, bar_y)\n",
    "plt.show()"
   ]
  },
  {
   "cell_type": "markdown",
   "metadata": {},
   "source": [
    "Finally we can use histograms to show distributions or a range of measurements. Pay attention to how the number of bins for histogram is determined. A too small or too large number of bins may hide or amplify some features of the data."
   ]
  },
  {
   "cell_type": "code",
   "execution_count": null,
   "metadata": {},
   "outputs": [],
   "source": [
    "rand_num = np.random.randn(1000) # generate 1000 random numbers from the standard normal distribution\n",
    "plt.hist(rand_num, bins=20) # we can change bins to change how the histogram looks\n",
    "plt.show()"
   ]
  },
  {
   "cell_type": "markdown",
   "metadata": {},
   "source": [
    "## Decorate figures\n",
    "We can customise our figures to add error bars or show confidence intervals"
   ]
  },
  {
   "cell_type": "code",
   "execution_count": null,
   "metadata": {},
   "outputs": [],
   "source": [
    "error = sine_y * 0.2 # let's assume the error is proportional to the y value\n",
    "plt.errorbar(x, sine_y, yerr=error) # we use errorbar to plot a lineplot with error bars\n",
    "                               # yerr and xerr are the keyword arguments for inputing error bar values\n",
    "plt.show()"
   ]
  },
  {
   "cell_type": "markdown",
   "metadata": {},
   "source": [
    "Error bars can be added to bar plots in the similar fashion."
   ]
  },
  {
   "cell_type": "code",
   "execution_count": null,
   "metadata": {},
   "outputs": [],
   "source": [
    "bar_x = np.array(range(1, 11))\n",
    "bar_y = np.array((range(10, 0, -1)))\n",
    "plt.bar(bar_x, bar_y, yerr=0.1 * bar_y, xerr=0.1 * bar_x)\n",
    "plt.show()"
   ]
  },
  {
   "cell_type": "markdown",
   "metadata": {},
   "source": [
    "### Confidence interval"
   ]
  },
  {
   "cell_type": "code",
   "execution_count": null,
   "metadata": {},
   "outputs": [],
   "source": [
    "ci = sine_y * 0.2 # Let's assume our confidence interval is proportional to the y value as well\n",
    "plt.plot(x, sine_y)\n",
    "plt.fill_between(x, (sine_y-ci), (sine_y+ci), color='b', alpha=0.1) # use fill_between to color a region on the graph\n",
    "# plt.fill_between(x, sine_y, 0, color='b', alpha=0.1)\n",
    "plt.show()"
   ]
  },
  {
   "cell_type": "markdown",
   "metadata": {},
   "source": [
    "### Exercise 2\n",
    "Plot the function $y=x^2$ for x from -10 to 10 and fill the area under the curve between 2.5 and 7.5"
   ]
  },
  {
   "cell_type": "code",
   "execution_count": null,
   "metadata": {},
   "outputs": [],
   "source": []
  },
  {
   "cell_type": "markdown",
   "metadata": {},
   "source": [
    "## Miniproject -  Bond enthalpy of noble gas dimmers\n",
    "`He2.csv`, `Ne2.csv`, `Ar2.csv`, and `Kr2.csv` are csv files contain two columns of data. The first column is the internuclear distance between the two noble gas atoms and the second column is the interaction energy in hatrees.\n",
    "\n",
    "### Exercise 3: plotting the bond enthalpy curve\n",
    "1. load the `He2.csv` file with [np.loadtxt](https://numpy.org/doc/stable/reference/generated/numpy.loadtxt.html) and use `,` as the delimiter\n",
    "2. plot the enthalpy vs bond distance as a scatter plot (hint: use array indexing to select the first and the second column)\n",
    "3. make sure to add labels, legend, and a sensible title"
   ]
  },
  {
   "cell_type": "code",
   "execution_count": null,
   "metadata": {},
   "outputs": [],
   "source": []
  },
  {
   "cell_type": "markdown",
   "metadata": {},
   "source": [
    "### Curve fitting\n",
    "\n",
    "When we want to fit a curve to a series of observed datapoints, we can use SciPy's [curve_fit](https://docs.scipy.org/doc/scipy/reference/generated/scipy.optimize.curve_fit.html) function."
   ]
  },
  {
   "cell_type": "code",
   "execution_count": null,
   "metadata": {},
   "outputs": [],
   "source": [
    "from scipy.optimize import curve_fit"
   ]
  },
  {
   "cell_type": "markdown",
   "metadata": {},
   "source": [
    "For our toy example, we will plot $y=ax + b$ and use curve_fit to find the values of a and b from the sythesised datapoints."
   ]
  },
  {
   "cell_type": "code",
   "execution_count": null,
   "metadata": {},
   "outputs": [],
   "source": [
    "# Let's make our datapoints\n",
    "x = np.linspace(0, 10, 11)\n",
    "y = 3 * x + 4"
   ]
  },
  {
   "cell_type": "code",
   "execution_count": null,
   "metadata": {},
   "outputs": [],
   "source": [
    "print(x, y)"
   ]
  },
  {
   "cell_type": "code",
   "execution_count": null,
   "metadata": {},
   "outputs": [],
   "source": [
    "plt.scatter(x, y)\n",
    "plt.show()"
   ]
  },
  {
   "cell_type": "markdown",
   "metadata": {},
   "source": [
    "To begin fitting a curve, we first need to define the equation of the line/curve."
   ]
  },
  {
   "cell_type": "code",
   "execution_count": null,
   "metadata": {},
   "outputs": [],
   "source": [
    "def linear(x, a, b):\n",
    "    return a * x + b"
   ]
  },
  {
   "cell_type": "markdown",
   "metadata": {},
   "source": [
    "We have defined a linear function and now it's time to use curve_fit to find parameters a and b"
   ]
  },
  {
   "cell_type": "code",
   "execution_count": null,
   "metadata": {},
   "outputs": [],
   "source": [
    "curve_fit(linear, x, y) # at the least, curve_fit takes three arguments.\n",
    "                        # the first is the function for the curve\n",
    "                        # the second is the independent varibale\n",
    "                        # the third is the dependent variable"
   ]
  },
  {
   "cell_type": "markdown",
   "metadata": {},
   "source": [
    "### Exercise 4: Morse potential\n",
    "The shape of dissociation curve can be modeled mathematically by the Morse potential:\n",
    "\n",
    "$$V(r) = d ((1 - e^{-a(r - r_e)})^2 -1),$$\n",
    "\n",
    "where *r<sub>e</sub>* is the equilibrium distance, *d* is the dissociation energy, and the *a* is related to the frequency of the potential well.\n",
    "\n",
    "Write a function to compute the Morse potential with *r*, *r<sub>e</sub>*, *d* and *a* as arguments to the function, making sure the arguments are defined in this order."
   ]
  },
  {
   "cell_type": "code",
   "execution_count": null,
   "metadata": {},
   "outputs": [],
   "source": [
    "def morse():\n",
    "    "
   ]
  },
  {
   "cell_type": "markdown",
   "metadata": {},
   "source": [
    "Run the following cell to make sure your `morse` function works as expected."
   ]
  },
  {
   "cell_type": "code",
   "execution_count": null,
   "metadata": {},
   "outputs": [],
   "source": [
    "if abs(morse(2.0, 1.0, 3.2, 5.2) - -0.035208628347242053) < 1e-8:\n",
    "    print('Well Done your Morse function works.')\n",
    "else:\n",
    "    print('Your Morse function is wrong!')"
   ]
  },
  {
   "cell_type": "markdown",
   "metadata": {},
   "source": [
    "### Exercise 5: Fit the Morse function to find the values of $r_e$, $d$, and $a$\n",
    "\n",
    "Use curve_fit to find the values of $r_e$, $d$, and $a$. For a complex function like Morse, it's necessary to supply initial guesses of the values to nudge the curve fitting algorithm towards the right direction. Think of the meaning of $r_e$ and $d$ in order to find a suitable first guess. A common value like 1 can be used for $a$ since no sensible initial guess can be derived from the data.\n",
    "\n",
    "Provide initial guesses as a list for argument `p0`: `curve_fit(..., p0=[...])`\n",
    "\n",
    "- Fit the Morse function to find the values of the parameters\n",
    "- Plot the fitted curve as a lineplot along with the scatterplot of the data\n",
    "- Does your fitted curve look close enough to the original data?"
   ]
  },
  {
   "cell_type": "code",
   "execution_count": null,
   "metadata": {},
   "outputs": [],
   "source": []
  },
  {
   "cell_type": "markdown",
   "metadata": {},
   "source": [
    "#### Extra\n",
    "Repeat the same curve fitting steps to determine and plot the Morse curves for `He2`, `Ne2`, `Ar2`, and `Kr2` on the same graph. What do you see?"
   ]
  },
  {
   "cell_type": "code",
   "execution_count": null,
   "metadata": {},
   "outputs": [],
   "source": []
  },
  {
   "cell_type": "markdown",
   "metadata": {},
   "source": [
    "## Finishing remarks\n",
    "\n",
    "Well done! We have learnt how to make and customise many types of figures today. Although these functions are very powerful we only covered a very small portion of matplotlib. Be sure to check out [matplotlib's gallery](https://matplotlib.org/3.1.1/gallery/index.html) to glance over all the pretty figures you can make.\n",
    "\n",
    "[Seaborn](https://seaborn.pydata.org/examples/index.html) is a library built on top of matplotlib to give you simpler access to commonly used statistical graphics. But it does not provide the granular control that matplotlib offers."
   ]
  }
 ],
 "metadata": {
  "kernelspec": {
   "display_name": "Python 3",
   "language": "python",
   "name": "python3"
  },
  "language_info": {
   "codemirror_mode": {
    "name": "ipython",
    "version": 3
   },
   "file_extension": ".py",
   "mimetype": "text/x-python",
   "name": "python",
   "nbconvert_exporter": "python",
   "pygments_lexer": "ipython3",
   "version": "3.7.3"
  }
 },
 "nbformat": 4,
 "nbformat_minor": 4
}
